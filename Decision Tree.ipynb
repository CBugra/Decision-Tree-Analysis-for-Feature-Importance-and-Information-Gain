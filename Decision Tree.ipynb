{
 "cells": [
  {
   "cell_type": "code",
   "execution_count": 37,
   "metadata": {
    "id": "ZsS9G1jodX7i",
    "scrolled": true
   },
   "outputs": [],
   "source": [
    "import pandas as pd\n",
    "import math"
   ]
  },
  {
   "cell_type": "code",
   "execution_count": 38,
   "metadata": {
    "colab": {
     "base_uri": "https://localhost:8080/",
     "height": 488
    },
    "id": "2lCY3mridZyG",
    "outputId": "4bc01388-d0ad-425a-e81c-a095038e1090",
    "scrolled": true
   },
   "outputs": [
    {
     "data": {
      "text/html": [
       "<div>\n",
       "<style scoped>\n",
       "    .dataframe tbody tr th:only-of-type {\n",
       "        vertical-align: middle;\n",
       "    }\n",
       "\n",
       "    .dataframe tbody tr th {\n",
       "        vertical-align: top;\n",
       "    }\n",
       "\n",
       "    .dataframe thead th {\n",
       "        text-align: right;\n",
       "    }\n",
       "</style>\n",
       "<table border=\"1\" class=\"dataframe\">\n",
       "  <thead>\n",
       "    <tr style=\"text-align: right;\">\n",
       "      <th></th>\n",
       "      <th>Age</th>\n",
       "      <th>Hair_Size</th>\n",
       "      <th>Brown_Eye</th>\n",
       "      <th>Sex</th>\n",
       "      <th>Won</th>\n",
       "    </tr>\n",
       "  </thead>\n",
       "  <tbody>\n",
       "    <tr>\n",
       "      <th>0</th>\n",
       "      <td>youth</td>\n",
       "      <td>long</td>\n",
       "      <td>no</td>\n",
       "      <td>male</td>\n",
       "      <td>no</td>\n",
       "    </tr>\n",
       "    <tr>\n",
       "      <th>1</th>\n",
       "      <td>youth</td>\n",
       "      <td>long</td>\n",
       "      <td>no</td>\n",
       "      <td>female</td>\n",
       "      <td>no</td>\n",
       "    </tr>\n",
       "    <tr>\n",
       "      <th>2</th>\n",
       "      <td>middle_age</td>\n",
       "      <td>long</td>\n",
       "      <td>no</td>\n",
       "      <td>male</td>\n",
       "      <td>yes</td>\n",
       "    </tr>\n",
       "    <tr>\n",
       "      <th>3</th>\n",
       "      <td>senior</td>\n",
       "      <td>medium</td>\n",
       "      <td>no</td>\n",
       "      <td>male</td>\n",
       "      <td>yes</td>\n",
       "    </tr>\n",
       "    <tr>\n",
       "      <th>4</th>\n",
       "      <td>senior</td>\n",
       "      <td>short</td>\n",
       "      <td>yes</td>\n",
       "      <td>male</td>\n",
       "      <td>yes</td>\n",
       "    </tr>\n",
       "    <tr>\n",
       "      <th>5</th>\n",
       "      <td>senior</td>\n",
       "      <td>short</td>\n",
       "      <td>yes</td>\n",
       "      <td>female</td>\n",
       "      <td>no</td>\n",
       "    </tr>\n",
       "    <tr>\n",
       "      <th>6</th>\n",
       "      <td>middle_age</td>\n",
       "      <td>short</td>\n",
       "      <td>yes</td>\n",
       "      <td>female</td>\n",
       "      <td>yes</td>\n",
       "    </tr>\n",
       "    <tr>\n",
       "      <th>7</th>\n",
       "      <td>youth</td>\n",
       "      <td>medium</td>\n",
       "      <td>no</td>\n",
       "      <td>male</td>\n",
       "      <td>no</td>\n",
       "    </tr>\n",
       "    <tr>\n",
       "      <th>8</th>\n",
       "      <td>youth</td>\n",
       "      <td>short</td>\n",
       "      <td>yes</td>\n",
       "      <td>male</td>\n",
       "      <td>yes</td>\n",
       "    </tr>\n",
       "    <tr>\n",
       "      <th>9</th>\n",
       "      <td>senior</td>\n",
       "      <td>medium</td>\n",
       "      <td>yes</td>\n",
       "      <td>male</td>\n",
       "      <td>yes</td>\n",
       "    </tr>\n",
       "    <tr>\n",
       "      <th>10</th>\n",
       "      <td>youth</td>\n",
       "      <td>medium</td>\n",
       "      <td>yes</td>\n",
       "      <td>female</td>\n",
       "      <td>yes</td>\n",
       "    </tr>\n",
       "    <tr>\n",
       "      <th>11</th>\n",
       "      <td>middle_age</td>\n",
       "      <td>medium</td>\n",
       "      <td>no</td>\n",
       "      <td>female</td>\n",
       "      <td>yes</td>\n",
       "    </tr>\n",
       "    <tr>\n",
       "      <th>12</th>\n",
       "      <td>middle_age</td>\n",
       "      <td>long</td>\n",
       "      <td>yes</td>\n",
       "      <td>male</td>\n",
       "      <td>yes</td>\n",
       "    </tr>\n",
       "    <tr>\n",
       "      <th>13</th>\n",
       "      <td>senior</td>\n",
       "      <td>medium</td>\n",
       "      <td>no</td>\n",
       "      <td>female</td>\n",
       "      <td>no</td>\n",
       "    </tr>\n",
       "  </tbody>\n",
       "</table>\n",
       "</div>"
      ],
      "text/plain": [
       "           Age Hair_Size Brown_Eye     Sex  Won\n",
       "0        youth      long        no    male   no\n",
       "1        youth      long        no  female   no\n",
       "2   middle_age      long        no    male  yes\n",
       "3       senior   medium         no    male  yes\n",
       "4       senior     short       yes    male  yes\n",
       "5       senior     short       yes  female   no\n",
       "6   middle_age     short       yes  female  yes\n",
       "7        youth   medium         no    male   no\n",
       "8        youth     short       yes    male  yes\n",
       "9       senior   medium        yes    male  yes\n",
       "10       youth   medium        yes  female  yes\n",
       "11  middle_age   medium         no  female  yes\n",
       "12  middle_age      long       yes    male  yes\n",
       "13      senior   medium         no  female   no"
      ]
     },
     "execution_count": 38,
     "metadata": {},
     "output_type": "execute_result"
    }
   ],
   "source": [
    "df = pd.read_csv('C:/Users/hp/Desktop/Dublin Business School/Assements/Machine Learning/Assessment/CA2_task1/Data_Frame.csv')\n",
    "df"
   ]
  },
  {
   "cell_type": "code",
   "execution_count": 39,
   "metadata": {
    "colab": {
     "base_uri": "https://localhost:8080/"
    },
    "id": "uckbNZI0likv",
    "outputId": "fdc189a1-f0d2-469e-c63a-4b2ebd91405f"
   },
   "outputs": [
    {
     "name": "stdout",
     "output_type": "stream",
     "text": [
      "E(S): 0.94\n"
     ]
    }
   ],
   "source": [
    "# GENERAL ENTROPY E(S)\n",
    "# we have 9 yes, 5 no thats why we chose 9/14 and 5/14\n",
    "E_S = -((9/14) * math.log2(9/14) + (5/14) * math.log2(5/14))\n",
    "print(f\"E(S): {E_S:.2}\")"
   ]
  },
  {
   "cell_type": "code",
   "execution_count": 40,
   "metadata": {
    "colab": {
     "base_uri": "https://localhost:8080/",
     "height": 174
    },
    "id": "oXnSTjNxeGw2",
    "outputId": "e337e2fe-6893-4f2a-df6a-e6b5a0c7f41b"
   },
   "outputs": [
    {
     "data": {
      "text/html": [
       "<div>\n",
       "<style scoped>\n",
       "    .dataframe tbody tr th:only-of-type {\n",
       "        vertical-align: middle;\n",
       "    }\n",
       "\n",
       "    .dataframe tbody tr th {\n",
       "        vertical-align: top;\n",
       "    }\n",
       "\n",
       "    .dataframe thead th {\n",
       "        text-align: right;\n",
       "    }\n",
       "</style>\n",
       "<table border=\"1\" class=\"dataframe\">\n",
       "  <thead>\n",
       "    <tr style=\"text-align: right;\">\n",
       "      <th>Won</th>\n",
       "      <th>no</th>\n",
       "      <th>yes</th>\n",
       "    </tr>\n",
       "    <tr>\n",
       "      <th>Age</th>\n",
       "      <th></th>\n",
       "      <th></th>\n",
       "    </tr>\n",
       "  </thead>\n",
       "  <tbody>\n",
       "    <tr>\n",
       "      <th>middle_age</th>\n",
       "      <td>0</td>\n",
       "      <td>4</td>\n",
       "    </tr>\n",
       "    <tr>\n",
       "      <th>senior</th>\n",
       "      <td>2</td>\n",
       "      <td>3</td>\n",
       "    </tr>\n",
       "    <tr>\n",
       "      <th>youth</th>\n",
       "      <td>3</td>\n",
       "      <td>2</td>\n",
       "    </tr>\n",
       "  </tbody>\n",
       "</table>\n",
       "</div>"
      ],
      "text/plain": [
       "Won         no  yes\n",
       "Age                \n",
       "middle_age   0    4\n",
       "senior       2    3\n",
       "youth        3    2"
      ]
     },
     "execution_count": 40,
     "metadata": {},
     "output_type": "execute_result"
    }
   ],
   "source": [
    "# E(S,Age) Data Frame\n",
    "df_age_won = pd.crosstab(df['Age'],df['Won'])\n",
    "df_age_won"
   ]
  },
  {
   "cell_type": "code",
   "execution_count": 41,
   "metadata": {
    "colab": {
     "base_uri": "https://localhost:8080/"
    },
    "id": "eiNBiEVKex6v",
    "outputId": "f1a4d73d-21bf-4ec8-a2cf-1b320b91a7eb"
   },
   "outputs": [
    {
     "name": "stdout",
     "output_type": "stream",
     "text": [
      "E(S_AGE): 0.69\n"
     ]
    }
   ],
   "source": [
    "# E(S,Age)\n",
    "E_S_Age = (4/14)*0 + (5/14)*((-3/5)*math.log2(3/5)-(2/5)*math.log2(2/5)) + (5/14)*((-3/5)*math.log2(3/5)-(2/5)*math.log2(2/5))\n",
    "print(f\"E(S_AGE): {E_S_Age:.2}\")"
   ]
  },
  {
   "cell_type": "code",
   "execution_count": 42,
   "metadata": {
    "colab": {
     "base_uri": "https://localhost:8080/",
     "height": 174
    },
    "id": "OZXFtDW3f_7U",
    "outputId": "bb599ca3-c720-416d-dd9f-326973949031"
   },
   "outputs": [
    {
     "data": {
      "text/html": [
       "<div>\n",
       "<style scoped>\n",
       "    .dataframe tbody tr th:only-of-type {\n",
       "        vertical-align: middle;\n",
       "    }\n",
       "\n",
       "    .dataframe tbody tr th {\n",
       "        vertical-align: top;\n",
       "    }\n",
       "\n",
       "    .dataframe thead th {\n",
       "        text-align: right;\n",
       "    }\n",
       "</style>\n",
       "<table border=\"1\" class=\"dataframe\">\n",
       "  <thead>\n",
       "    <tr style=\"text-align: right;\">\n",
       "      <th>Won</th>\n",
       "      <th>no</th>\n",
       "      <th>yes</th>\n",
       "    </tr>\n",
       "    <tr>\n",
       "      <th>Hair_Size</th>\n",
       "      <th></th>\n",
       "      <th></th>\n",
       "    </tr>\n",
       "  </thead>\n",
       "  <tbody>\n",
       "    <tr>\n",
       "      <th>long</th>\n",
       "      <td>2</td>\n",
       "      <td>2</td>\n",
       "    </tr>\n",
       "    <tr>\n",
       "      <th>medium</th>\n",
       "      <td>2</td>\n",
       "      <td>4</td>\n",
       "    </tr>\n",
       "    <tr>\n",
       "      <th>short</th>\n",
       "      <td>1</td>\n",
       "      <td>3</td>\n",
       "    </tr>\n",
       "  </tbody>\n",
       "</table>\n",
       "</div>"
      ],
      "text/plain": [
       "Won        no  yes\n",
       "Hair_Size         \n",
       "long        2    2\n",
       "medium      2    4\n",
       "short       1    3"
      ]
     },
     "execution_count": 42,
     "metadata": {},
     "output_type": "execute_result"
    }
   ],
   "source": [
    "# E(S,Hair_Size) Data Frame\n",
    "df_hs_won = pd.crosstab(df['Hair_Size'],df['Won'])\n",
    "df_hs_won"
   ]
  },
  {
   "cell_type": "code",
   "execution_count": 43,
   "metadata": {
    "colab": {
     "base_uri": "https://localhost:8080/"
    },
    "id": "kcM8GCSfhVsW",
    "outputId": "477f136f-c06f-4f79-858d-a510e306e55c"
   },
   "outputs": [
    {
     "name": "stdout",
     "output_type": "stream",
     "text": [
      "E(S_HairSize): 0.91\n"
     ]
    }
   ],
   "source": [
    "E_S_HS = (4/14)*((-2/4)*math.log2(2/4)-(2/4)*math.log2(2/4)) + (6/14)*((-2/6)*math.log2(2/6)-(4/6)*math.log2(4/6)) + (4/14)*((-1/4)*math.log2(1/4)-(3/4)*math.log2(3/4))\n",
    "print(f\"E(S_HairSize): {E_S_HS:.2}\")"
   ]
  },
  {
   "cell_type": "code",
   "execution_count": 44,
   "metadata": {
    "colab": {
     "base_uri": "https://localhost:8080/",
     "height": 143
    },
    "id": "Srad716Fjiwo",
    "outputId": "ca8166e7-ba60-4e80-89b7-88420ab75dd8"
   },
   "outputs": [
    {
     "data": {
      "text/html": [
       "<div>\n",
       "<style scoped>\n",
       "    .dataframe tbody tr th:only-of-type {\n",
       "        vertical-align: middle;\n",
       "    }\n",
       "\n",
       "    .dataframe tbody tr th {\n",
       "        vertical-align: top;\n",
       "    }\n",
       "\n",
       "    .dataframe thead th {\n",
       "        text-align: right;\n",
       "    }\n",
       "</style>\n",
       "<table border=\"1\" class=\"dataframe\">\n",
       "  <thead>\n",
       "    <tr style=\"text-align: right;\">\n",
       "      <th>Won</th>\n",
       "      <th>no</th>\n",
       "      <th>yes</th>\n",
       "    </tr>\n",
       "    <tr>\n",
       "      <th>Brown_Eye</th>\n",
       "      <th></th>\n",
       "      <th></th>\n",
       "    </tr>\n",
       "  </thead>\n",
       "  <tbody>\n",
       "    <tr>\n",
       "      <th>no</th>\n",
       "      <td>4</td>\n",
       "      <td>3</td>\n",
       "    </tr>\n",
       "    <tr>\n",
       "      <th>yes</th>\n",
       "      <td>1</td>\n",
       "      <td>6</td>\n",
       "    </tr>\n",
       "  </tbody>\n",
       "</table>\n",
       "</div>"
      ],
      "text/plain": [
       "Won        no  yes\n",
       "Brown_Eye         \n",
       "no          4    3\n",
       "yes         1    6"
      ]
     },
     "execution_count": 44,
     "metadata": {},
     "output_type": "execute_result"
    }
   ],
   "source": [
    "# E(S,Brown_Eye) Data Frame\n",
    "df_brown_eye = pd.crosstab(df['Brown_Eye'],df['Won'])\n",
    "df_brown_eye"
   ]
  },
  {
   "cell_type": "code",
   "execution_count": 45,
   "metadata": {
    "colab": {
     "base_uri": "https://localhost:8080/"
    },
    "id": "oSxigtkxjo--",
    "outputId": "3649f51d-538d-41bf-d8c0-0bcc913b3a21"
   },
   "outputs": [
    {
     "name": "stdout",
     "output_type": "stream",
     "text": [
      "E(S_BrownEye): 0.79\n"
     ]
    }
   ],
   "source": [
    "# E(S,Brown_Eye)\n",
    "E_S_BE = (7/14)*((-4/7)*math.log2(4/7)-(3/7)*math.log2(3/7)) + (7/14)*((-1/7)*math.log2(1/7)-(6/7)*math.log2(6/7))\n",
    "print(f\"E(S_BrownEye): {E_S_BE:.2}\")"
   ]
  },
  {
   "cell_type": "code",
   "execution_count": 46,
   "metadata": {
    "colab": {
     "base_uri": "https://localhost:8080/",
     "height": 143
    },
    "id": "qw5wPJSkkV56",
    "outputId": "7c35a8f3-29fa-4024-888e-53431c663603"
   },
   "outputs": [
    {
     "data": {
      "text/html": [
       "<div>\n",
       "<style scoped>\n",
       "    .dataframe tbody tr th:only-of-type {\n",
       "        vertical-align: middle;\n",
       "    }\n",
       "\n",
       "    .dataframe tbody tr th {\n",
       "        vertical-align: top;\n",
       "    }\n",
       "\n",
       "    .dataframe thead th {\n",
       "        text-align: right;\n",
       "    }\n",
       "</style>\n",
       "<table border=\"1\" class=\"dataframe\">\n",
       "  <thead>\n",
       "    <tr style=\"text-align: right;\">\n",
       "      <th>Won</th>\n",
       "      <th>no</th>\n",
       "      <th>yes</th>\n",
       "    </tr>\n",
       "    <tr>\n",
       "      <th>Sex</th>\n",
       "      <th></th>\n",
       "      <th></th>\n",
       "    </tr>\n",
       "  </thead>\n",
       "  <tbody>\n",
       "    <tr>\n",
       "      <th>female</th>\n",
       "      <td>3</td>\n",
       "      <td>3</td>\n",
       "    </tr>\n",
       "    <tr>\n",
       "      <th>male</th>\n",
       "      <td>2</td>\n",
       "      <td>6</td>\n",
       "    </tr>\n",
       "  </tbody>\n",
       "</table>\n",
       "</div>"
      ],
      "text/plain": [
       "Won     no  yes\n",
       "Sex            \n",
       "female   3    3\n",
       "male     2    6"
      ]
     },
     "execution_count": 46,
     "metadata": {},
     "output_type": "execute_result"
    }
   ],
   "source": [
    "# E(S,Sex) Data Frame\n",
    "df_sex = pd.crosstab(df['Sex'],df['Won'])\n",
    "df_sex"
   ]
  },
  {
   "cell_type": "code",
   "execution_count": 47,
   "metadata": {
    "colab": {
     "base_uri": "https://localhost:8080/"
    },
    "id": "BJ-V2TPskywK",
    "outputId": "e6352042-335b-4c1d-8687-74b2dcf44ef9"
   },
   "outputs": [
    {
     "name": "stdout",
     "output_type": "stream",
     "text": [
      "E(S_sex): 0.89\n"
     ]
    }
   ],
   "source": [
    "# E(S,Sex)\n",
    "E_S_sex = (6/14)*((-3/6)*math.log2(3/6)-(3/6)*math.log2(3/6)) + (8/14)*((-2/8)*math.log2(2/8)-(6/8)*math.log2(6/8))\n",
    "print(f\"E(S_sex): {E_S_sex:.2}\")"
   ]
  },
  {
   "cell_type": "code",
   "execution_count": 48,
   "metadata": {
    "colab": {
     "base_uri": "https://localhost:8080/"
    },
    "id": "jofWPBeolXlm",
    "outputId": "cfe93cc6-59d5-4b50-b707-fd1f954f3914"
   },
   "outputs": [
    {
     "name": "stdout",
     "output_type": "stream",
     "text": [
      "E(S): 0.94\n",
      "E(S_AGE): 0.69\n",
      "E(S_HairSize): 0.91\n",
      "E(S_BrownEye): 0.79\n",
      "E(S_sex): 0.89\n"
     ]
    }
   ],
   "source": [
    "# SUMMARY OF ENTROPIES\n",
    "print(f\"E(S): {E_S:.2}\")\n",
    "print(f\"E(S_AGE): {E_S_Age:.2}\")\n",
    "print(f\"E(S_HairSize): {E_S_HS:.2}\")\n",
    "print(f\"E(S_BrownEye): {E_S_BE:.2}\")\n",
    "print(f\"E(S_sex): {E_S_sex:.2}\")"
   ]
  },
  {
   "cell_type": "code",
   "execution_count": 49,
   "metadata": {
    "colab": {
     "base_uri": "https://localhost:8080/"
    },
    "id": "DVlbA2lRmF5-",
    "outputId": "05803dbe-f7b4-4750-d6ad-495de0fccb76"
   },
   "outputs": [
    {
     "name": "stdout",
     "output_type": "stream",
     "text": [
      "E(IG_Age): 0.25\n",
      "E(IG_Hairsize): 0.029\n",
      "E(IG_BE): 0.15\n",
      "E(IG_Hairsize): 0.048\n"
     ]
    }
   ],
   "source": [
    "# GAIN INFORMATION\n",
    "IG_Age = E_S - E_S_Age\n",
    "print(f\"E(IG_Age): {IG_Age:.2}\")\n",
    "IG_HS = E_S - E_S_HS\n",
    "print(f\"E(IG_Hairsize): {IG_HS:.2}\")\n",
    "IG_BE = E_S - E_S_BE\n",
    "print(f\"E(IG_BE): {IG_BE:.2}\")\n",
    "IG_Sex = E_S - E_S_sex\n",
    "print(f\"E(IG_Hairsize): {IG_Sex:.2}\")"
   ]
  },
  {
   "cell_type": "markdown",
   "metadata": {
    "id": "rOSBP-aenDnQ"
   },
   "source": [
    "A- The most important feature is 'Age', because it has the largest information gain"
   ]
  },
  {
   "cell_type": "code",
   "execution_count": 50,
   "metadata": {
    "colab": {
     "base_uri": "https://localhost:8080/",
     "height": 488
    },
    "id": "blvI9AYNnjbt",
    "outputId": "0bb1395f-2eaf-444a-d7d0-4305f1a31515"
   },
   "outputs": [
    {
     "data": {
      "text/html": [
       "<div>\n",
       "<style scoped>\n",
       "    .dataframe tbody tr th:only-of-type {\n",
       "        vertical-align: middle;\n",
       "    }\n",
       "\n",
       "    .dataframe tbody tr th {\n",
       "        vertical-align: top;\n",
       "    }\n",
       "\n",
       "    .dataframe thead th {\n",
       "        text-align: right;\n",
       "    }\n",
       "</style>\n",
       "<table border=\"1\" class=\"dataframe\">\n",
       "  <thead>\n",
       "    <tr style=\"text-align: right;\">\n",
       "      <th></th>\n",
       "      <th>Age</th>\n",
       "      <th>Hair_Size</th>\n",
       "      <th>Brown_Eye</th>\n",
       "      <th>Sex</th>\n",
       "      <th>Won</th>\n",
       "    </tr>\n",
       "  </thead>\n",
       "  <tbody>\n",
       "    <tr>\n",
       "      <th>2</th>\n",
       "      <td>middle_age</td>\n",
       "      <td>long</td>\n",
       "      <td>no</td>\n",
       "      <td>male</td>\n",
       "      <td>yes</td>\n",
       "    </tr>\n",
       "    <tr>\n",
       "      <th>6</th>\n",
       "      <td>middle_age</td>\n",
       "      <td>short</td>\n",
       "      <td>yes</td>\n",
       "      <td>female</td>\n",
       "      <td>yes</td>\n",
       "    </tr>\n",
       "    <tr>\n",
       "      <th>11</th>\n",
       "      <td>middle_age</td>\n",
       "      <td>medium</td>\n",
       "      <td>no</td>\n",
       "      <td>female</td>\n",
       "      <td>yes</td>\n",
       "    </tr>\n",
       "    <tr>\n",
       "      <th>12</th>\n",
       "      <td>middle_age</td>\n",
       "      <td>long</td>\n",
       "      <td>yes</td>\n",
       "      <td>male</td>\n",
       "      <td>yes</td>\n",
       "    </tr>\n",
       "    <tr>\n",
       "      <th>3</th>\n",
       "      <td>senior</td>\n",
       "      <td>medium</td>\n",
       "      <td>no</td>\n",
       "      <td>male</td>\n",
       "      <td>yes</td>\n",
       "    </tr>\n",
       "    <tr>\n",
       "      <th>4</th>\n",
       "      <td>senior</td>\n",
       "      <td>short</td>\n",
       "      <td>yes</td>\n",
       "      <td>male</td>\n",
       "      <td>yes</td>\n",
       "    </tr>\n",
       "    <tr>\n",
       "      <th>5</th>\n",
       "      <td>senior</td>\n",
       "      <td>short</td>\n",
       "      <td>yes</td>\n",
       "      <td>female</td>\n",
       "      <td>no</td>\n",
       "    </tr>\n",
       "    <tr>\n",
       "      <th>9</th>\n",
       "      <td>senior</td>\n",
       "      <td>medium</td>\n",
       "      <td>yes</td>\n",
       "      <td>male</td>\n",
       "      <td>yes</td>\n",
       "    </tr>\n",
       "    <tr>\n",
       "      <th>13</th>\n",
       "      <td>senior</td>\n",
       "      <td>medium</td>\n",
       "      <td>no</td>\n",
       "      <td>female</td>\n",
       "      <td>no</td>\n",
       "    </tr>\n",
       "    <tr>\n",
       "      <th>0</th>\n",
       "      <td>youth</td>\n",
       "      <td>long</td>\n",
       "      <td>no</td>\n",
       "      <td>male</td>\n",
       "      <td>no</td>\n",
       "    </tr>\n",
       "    <tr>\n",
       "      <th>1</th>\n",
       "      <td>youth</td>\n",
       "      <td>long</td>\n",
       "      <td>no</td>\n",
       "      <td>female</td>\n",
       "      <td>no</td>\n",
       "    </tr>\n",
       "    <tr>\n",
       "      <th>7</th>\n",
       "      <td>youth</td>\n",
       "      <td>medium</td>\n",
       "      <td>no</td>\n",
       "      <td>male</td>\n",
       "      <td>no</td>\n",
       "    </tr>\n",
       "    <tr>\n",
       "      <th>8</th>\n",
       "      <td>youth</td>\n",
       "      <td>short</td>\n",
       "      <td>yes</td>\n",
       "      <td>male</td>\n",
       "      <td>yes</td>\n",
       "    </tr>\n",
       "    <tr>\n",
       "      <th>10</th>\n",
       "      <td>youth</td>\n",
       "      <td>medium</td>\n",
       "      <td>yes</td>\n",
       "      <td>female</td>\n",
       "      <td>yes</td>\n",
       "    </tr>\n",
       "  </tbody>\n",
       "</table>\n",
       "</div>"
      ],
      "text/plain": [
       "           Age Hair_Size Brown_Eye     Sex  Won\n",
       "2   middle_age      long        no    male  yes\n",
       "6   middle_age     short       yes  female  yes\n",
       "11  middle_age   medium         no  female  yes\n",
       "12  middle_age      long       yes    male  yes\n",
       "3       senior   medium         no    male  yes\n",
       "4       senior     short       yes    male  yes\n",
       "5       senior     short       yes  female   no\n",
       "9       senior   medium        yes    male  yes\n",
       "13      senior   medium         no  female   no\n",
       "0        youth      long        no    male   no\n",
       "1        youth      long        no  female   no\n",
       "7        youth   medium         no    male   no\n",
       "8        youth     short       yes    male  yes\n",
       "10       youth   medium        yes  female  yes"
      ]
     },
     "execution_count": 50,
     "metadata": {},
     "output_type": "execute_result"
    }
   ],
   "source": [
    "# SORT DATA FRAME FOR AGE\n",
    "df_Age = df.sort_values(by='Age')\n",
    "df_Age"
   ]
  },
  {
   "cell_type": "code",
   "execution_count": 51,
   "metadata": {
    "colab": {
     "base_uri": "https://localhost:8080/",
     "height": 206
    },
    "id": "y0z2GozJn3Zo",
    "outputId": "77c0d71e-815c-48fd-ae65-19ffc64587ab"
   },
   "outputs": [
    {
     "data": {
      "text/html": [
       "<div>\n",
       "<style scoped>\n",
       "    .dataframe tbody tr th:only-of-type {\n",
       "        vertical-align: middle;\n",
       "    }\n",
       "\n",
       "    .dataframe tbody tr th {\n",
       "        vertical-align: top;\n",
       "    }\n",
       "\n",
       "    .dataframe thead th {\n",
       "        text-align: right;\n",
       "    }\n",
       "</style>\n",
       "<table border=\"1\" class=\"dataframe\">\n",
       "  <thead>\n",
       "    <tr style=\"text-align: right;\">\n",
       "      <th></th>\n",
       "      <th>Age</th>\n",
       "      <th>Hair_Size</th>\n",
       "      <th>Brown_Eye</th>\n",
       "      <th>Sex</th>\n",
       "      <th>Won</th>\n",
       "    </tr>\n",
       "  </thead>\n",
       "  <tbody>\n",
       "    <tr>\n",
       "      <th>0</th>\n",
       "      <td>youth</td>\n",
       "      <td>long</td>\n",
       "      <td>no</td>\n",
       "      <td>male</td>\n",
       "      <td>no</td>\n",
       "    </tr>\n",
       "    <tr>\n",
       "      <th>1</th>\n",
       "      <td>youth</td>\n",
       "      <td>long</td>\n",
       "      <td>no</td>\n",
       "      <td>female</td>\n",
       "      <td>no</td>\n",
       "    </tr>\n",
       "    <tr>\n",
       "      <th>7</th>\n",
       "      <td>youth</td>\n",
       "      <td>medium</td>\n",
       "      <td>no</td>\n",
       "      <td>male</td>\n",
       "      <td>no</td>\n",
       "    </tr>\n",
       "    <tr>\n",
       "      <th>8</th>\n",
       "      <td>youth</td>\n",
       "      <td>short</td>\n",
       "      <td>yes</td>\n",
       "      <td>male</td>\n",
       "      <td>yes</td>\n",
       "    </tr>\n",
       "    <tr>\n",
       "      <th>10</th>\n",
       "      <td>youth</td>\n",
       "      <td>medium</td>\n",
       "      <td>yes</td>\n",
       "      <td>female</td>\n",
       "      <td>yes</td>\n",
       "    </tr>\n",
       "  </tbody>\n",
       "</table>\n",
       "</div>"
      ],
      "text/plain": [
       "      Age Hair_Size Brown_Eye     Sex  Won\n",
       "0   youth      long        no    male   no\n",
       "1   youth      long        no  female   no\n",
       "7   youth   medium         no    male   no\n",
       "8   youth     short       yes    male  yes\n",
       "10  youth   medium        yes  female  yes"
      ]
     },
     "execution_count": 51,
     "metadata": {},
     "output_type": "execute_result"
    }
   ],
   "source": [
    "# DATA FRAME OF youth\n",
    "df_Age.tail()"
   ]
  },
  {
   "cell_type": "code",
   "execution_count": 52,
   "metadata": {
    "colab": {
     "base_uri": "https://localhost:8080/"
    },
    "id": "dZLLrcSnobQL",
    "outputId": "0f3110c9-461c-49d9-ebc4-45fb00bfc312"
   },
   "outputs": [
    {
     "name": "stdout",
     "output_type": "stream",
     "text": [
      "E(youth): 0.97\n"
     ]
    }
   ],
   "source": [
    "# Calculate Parent Entropy E(youth)\n",
    "E_youth = (-(3/5)*math.log2(3/5)-(2/5)*math.log2(2/5))\n",
    "print(f\"E(youth): {E_youth:.2}\")"
   ]
  },
  {
   "cell_type": "code",
   "execution_count": 53,
   "metadata": {
    "colab": {
     "base_uri": "https://localhost:8080/",
     "height": 174
    },
    "id": "G1ofqhiXqYLw",
    "outputId": "c8fd8298-cddd-4c21-b03e-1cd225f04df8"
   },
   "outputs": [
    {
     "data": {
      "text/html": [
       "<div>\n",
       "<style scoped>\n",
       "    .dataframe tbody tr th:only-of-type {\n",
       "        vertical-align: middle;\n",
       "    }\n",
       "\n",
       "    .dataframe tbody tr th {\n",
       "        vertical-align: top;\n",
       "    }\n",
       "\n",
       "    .dataframe thead th {\n",
       "        text-align: right;\n",
       "    }\n",
       "</style>\n",
       "<table border=\"1\" class=\"dataframe\">\n",
       "  <thead>\n",
       "    <tr style=\"text-align: right;\">\n",
       "      <th>Won</th>\n",
       "      <th>no</th>\n",
       "      <th>yes</th>\n",
       "    </tr>\n",
       "    <tr>\n",
       "      <th>Hair_Size</th>\n",
       "      <th></th>\n",
       "      <th></th>\n",
       "    </tr>\n",
       "  </thead>\n",
       "  <tbody>\n",
       "    <tr>\n",
       "      <th>long</th>\n",
       "      <td>2</td>\n",
       "      <td>0</td>\n",
       "    </tr>\n",
       "    <tr>\n",
       "      <th>medium</th>\n",
       "      <td>1</td>\n",
       "      <td>1</td>\n",
       "    </tr>\n",
       "    <tr>\n",
       "      <th>short</th>\n",
       "      <td>0</td>\n",
       "      <td>1</td>\n",
       "    </tr>\n",
       "  </tbody>\n",
       "</table>\n",
       "</div>"
      ],
      "text/plain": [
       "Won        no  yes\n",
       "Hair_Size         \n",
       "long        2    0\n",
       "medium      1    1\n",
       "short       0    1"
      ]
     },
     "execution_count": 53,
     "metadata": {},
     "output_type": "execute_result"
    }
   ],
   "source": [
    "# Create a data_frame youth,hair_size,won\n",
    "df_hs_won = {\n",
    "    'Hair_Size' : ['long','long','medium','short','medium'],\n",
    "    'Won' : ['no','no','no','yes','yes']}\n",
    "df_hs_won = pd.DataFrame(df_hs_won)\n",
    "# Crosstab of Hair_Size - Won\n",
    "df_hs_won = pd.crosstab(df_hs_won['Hair_Size'],df_hs_won['Won'])\n",
    "df_hs_won"
   ]
  },
  {
   "cell_type": "code",
   "execution_count": 54,
   "metadata": {
    "colab": {
     "base_uri": "https://localhost:8080/"
    },
    "id": "5tmNYZbdrzIR",
    "outputId": "01aad6a6-bd4f-42bd-c52e-33f68237c182"
   },
   "outputs": [
    {
     "name": "stdout",
     "output_type": "stream",
     "text": [
      "E(Hairsize_Won) :  0.4\n"
     ]
    }
   ],
   "source": [
    "# E(Hair_Size,Won)\n",
    "E_HS_Won = (2/5)*0 + (2/5)*((-1/2)*math.log2(1/2)-(1/2)*math.log2(1/2)) + 0*((-1/5))\n",
    "print('E(Hairsize_Won) : ',E_HS_Won)"
   ]
  },
  {
   "cell_type": "code",
   "execution_count": 55,
   "metadata": {
    "colab": {
     "base_uri": "https://localhost:8080/"
    },
    "id": "ny9GkqgjuOkF",
    "outputId": "a770053b-a5a1-4abf-9dc0-cbc24a3ecec6"
   },
   "outputs": [
    {
     "name": "stdout",
     "output_type": "stream",
     "text": [
      "IG_HS_Won :  0.5709505944546686\n"
     ]
    }
   ],
   "source": [
    "# INFORMATION GAIN IG(E_HS_Won) = E(youth) - E_HS_Won\n",
    "IG_E_HS_Won = E_youth - E_HS_Won\n",
    "print('IG_HS_Won : ',IG_E_HS_Won)"
   ]
  },
  {
   "cell_type": "code",
   "execution_count": 56,
   "metadata": {
    "colab": {
     "base_uri": "https://localhost:8080/",
     "height": 488
    },
    "id": "Xw2X62izwpkP",
    "outputId": "c98abd74-da0d-4689-fc82-458ada27866f"
   },
   "outputs": [
    {
     "data": {
      "text/html": [
       "<div>\n",
       "<style scoped>\n",
       "    .dataframe tbody tr th:only-of-type {\n",
       "        vertical-align: middle;\n",
       "    }\n",
       "\n",
       "    .dataframe tbody tr th {\n",
       "        vertical-align: top;\n",
       "    }\n",
       "\n",
       "    .dataframe thead th {\n",
       "        text-align: right;\n",
       "    }\n",
       "</style>\n",
       "<table border=\"1\" class=\"dataframe\">\n",
       "  <thead>\n",
       "    <tr style=\"text-align: right;\">\n",
       "      <th></th>\n",
       "      <th>Age</th>\n",
       "      <th>Hair_Size</th>\n",
       "      <th>Brown_Eye</th>\n",
       "      <th>Sex</th>\n",
       "      <th>Won</th>\n",
       "    </tr>\n",
       "  </thead>\n",
       "  <tbody>\n",
       "    <tr>\n",
       "      <th>0</th>\n",
       "      <td>youth</td>\n",
       "      <td>long</td>\n",
       "      <td>no</td>\n",
       "      <td>male</td>\n",
       "      <td>no</td>\n",
       "    </tr>\n",
       "    <tr>\n",
       "      <th>1</th>\n",
       "      <td>youth</td>\n",
       "      <td>long</td>\n",
       "      <td>no</td>\n",
       "      <td>female</td>\n",
       "      <td>no</td>\n",
       "    </tr>\n",
       "    <tr>\n",
       "      <th>2</th>\n",
       "      <td>middle_age</td>\n",
       "      <td>long</td>\n",
       "      <td>no</td>\n",
       "      <td>male</td>\n",
       "      <td>yes</td>\n",
       "    </tr>\n",
       "    <tr>\n",
       "      <th>3</th>\n",
       "      <td>senior</td>\n",
       "      <td>medium</td>\n",
       "      <td>no</td>\n",
       "      <td>male</td>\n",
       "      <td>yes</td>\n",
       "    </tr>\n",
       "    <tr>\n",
       "      <th>7</th>\n",
       "      <td>youth</td>\n",
       "      <td>medium</td>\n",
       "      <td>no</td>\n",
       "      <td>male</td>\n",
       "      <td>no</td>\n",
       "    </tr>\n",
       "    <tr>\n",
       "      <th>11</th>\n",
       "      <td>middle_age</td>\n",
       "      <td>medium</td>\n",
       "      <td>no</td>\n",
       "      <td>female</td>\n",
       "      <td>yes</td>\n",
       "    </tr>\n",
       "    <tr>\n",
       "      <th>13</th>\n",
       "      <td>senior</td>\n",
       "      <td>medium</td>\n",
       "      <td>no</td>\n",
       "      <td>female</td>\n",
       "      <td>no</td>\n",
       "    </tr>\n",
       "    <tr>\n",
       "      <th>4</th>\n",
       "      <td>senior</td>\n",
       "      <td>short</td>\n",
       "      <td>yes</td>\n",
       "      <td>male</td>\n",
       "      <td>yes</td>\n",
       "    </tr>\n",
       "    <tr>\n",
       "      <th>5</th>\n",
       "      <td>senior</td>\n",
       "      <td>short</td>\n",
       "      <td>yes</td>\n",
       "      <td>female</td>\n",
       "      <td>no</td>\n",
       "    </tr>\n",
       "    <tr>\n",
       "      <th>6</th>\n",
       "      <td>middle_age</td>\n",
       "      <td>short</td>\n",
       "      <td>yes</td>\n",
       "      <td>female</td>\n",
       "      <td>yes</td>\n",
       "    </tr>\n",
       "    <tr>\n",
       "      <th>8</th>\n",
       "      <td>youth</td>\n",
       "      <td>short</td>\n",
       "      <td>yes</td>\n",
       "      <td>male</td>\n",
       "      <td>yes</td>\n",
       "    </tr>\n",
       "    <tr>\n",
       "      <th>9</th>\n",
       "      <td>senior</td>\n",
       "      <td>medium</td>\n",
       "      <td>yes</td>\n",
       "      <td>male</td>\n",
       "      <td>yes</td>\n",
       "    </tr>\n",
       "    <tr>\n",
       "      <th>10</th>\n",
       "      <td>youth</td>\n",
       "      <td>medium</td>\n",
       "      <td>yes</td>\n",
       "      <td>female</td>\n",
       "      <td>yes</td>\n",
       "    </tr>\n",
       "    <tr>\n",
       "      <th>12</th>\n",
       "      <td>middle_age</td>\n",
       "      <td>long</td>\n",
       "      <td>yes</td>\n",
       "      <td>male</td>\n",
       "      <td>yes</td>\n",
       "    </tr>\n",
       "  </tbody>\n",
       "</table>\n",
       "</div>"
      ],
      "text/plain": [
       "           Age Hair_Size Brown_Eye     Sex  Won\n",
       "0        youth      long        no    male   no\n",
       "1        youth      long        no  female   no\n",
       "2   middle_age      long        no    male  yes\n",
       "3       senior   medium         no    male  yes\n",
       "7        youth   medium         no    male   no\n",
       "11  middle_age   medium         no  female  yes\n",
       "13      senior   medium         no  female   no\n",
       "4       senior     short       yes    male  yes\n",
       "5       senior     short       yes  female   no\n",
       "6   middle_age     short       yes  female  yes\n",
       "8        youth     short       yes    male  yes\n",
       "9       senior   medium        yes    male  yes\n",
       "10       youth   medium        yes  female  yes\n",
       "12  middle_age      long       yes    male  yes"
      ]
     },
     "execution_count": 56,
     "metadata": {},
     "output_type": "execute_result"
    }
   ],
   "source": [
    "# SORT BROWN_EYE\n",
    "df_be = df.sort_values(by='Brown_Eye')\n",
    "df_be"
   ]
  },
  {
   "cell_type": "code",
   "execution_count": 57,
   "metadata": {
    "colab": {
     "base_uri": "https://localhost:8080/",
     "height": 143
    },
    "id": "9bTUjjgovssM",
    "outputId": "542267da-4354-4faa-c421-3cf70ad4ce15"
   },
   "outputs": [
    {
     "data": {
      "text/html": [
       "<div>\n",
       "<style scoped>\n",
       "    .dataframe tbody tr th:only-of-type {\n",
       "        vertical-align: middle;\n",
       "    }\n",
       "\n",
       "    .dataframe tbody tr th {\n",
       "        vertical-align: top;\n",
       "    }\n",
       "\n",
       "    .dataframe thead th {\n",
       "        text-align: right;\n",
       "    }\n",
       "</style>\n",
       "<table border=\"1\" class=\"dataframe\">\n",
       "  <thead>\n",
       "    <tr style=\"text-align: right;\">\n",
       "      <th>Won</th>\n",
       "      <th>no</th>\n",
       "      <th>yes</th>\n",
       "    </tr>\n",
       "    <tr>\n",
       "      <th>Brown_Eye</th>\n",
       "      <th></th>\n",
       "      <th></th>\n",
       "    </tr>\n",
       "  </thead>\n",
       "  <tbody>\n",
       "    <tr>\n",
       "      <th>no</th>\n",
       "      <td>3</td>\n",
       "      <td>0</td>\n",
       "    </tr>\n",
       "    <tr>\n",
       "      <th>yes</th>\n",
       "      <td>0</td>\n",
       "      <td>2</td>\n",
       "    </tr>\n",
       "  </tbody>\n",
       "</table>\n",
       "</div>"
      ],
      "text/plain": [
       "Won        no  yes\n",
       "Brown_Eye         \n",
       "no          3    0\n",
       "yes         0    2"
      ]
     },
     "execution_count": 57,
     "metadata": {},
     "output_type": "execute_result"
    }
   ],
   "source": [
    "# Create a data frame for Brown_eye - Won\n",
    "df_be_won = {\n",
    "    'Brown_Eye' : ['no','no','no','yes','yes'],\n",
    "    'Won' : ['no','no','no','yes','yes']\n",
    "    }\n",
    "df_be_won = pd.DataFrame(df_be_won)\n",
    "# Crosstab Brown_Eye - Won\n",
    "df_be_won = pd.crosstab(df_be_won['Brown_Eye'],df_be_won['Won'])\n",
    "df_be_won"
   ]
  },
  {
   "cell_type": "code",
   "execution_count": 58,
   "metadata": {
    "colab": {
     "base_uri": "https://localhost:8080/"
    },
    "id": "VSyFNT8Fx2uP",
    "outputId": "5aca9ca2-ca1f-43f3-aa55-99d6042c7a02"
   },
   "outputs": [
    {
     "name": "stdout",
     "output_type": "stream",
     "text": [
      "E(youth,Browneye) :  0.0\n"
     ]
    }
   ],
   "source": [
    "# E(youth_Brown_Eye)\n",
    "E_youth_BE = (3/5)*0 + (2/5) * 0\n",
    "print('E(youth,Browneye) : ',E_youth_BE)"
   ]
  },
  {
   "cell_type": "code",
   "execution_count": 59,
   "metadata": {
    "colab": {
     "base_uri": "https://localhost:8080/"
    },
    "id": "WJClKIDKzWad",
    "outputId": "e1e0e619-74cf-449a-c376-e72dec310a98"
   },
   "outputs": [
    {
     "name": "stdout",
     "output_type": "stream",
     "text": [
      "IG(youth_BE): 0.97\n"
     ]
    }
   ],
   "source": [
    "# IG(youth,Brown_Eye)\n",
    "IG_youth_BE = E_youth - E_youth_BE\n",
    "print(f\"IG(youth_BE): {IG_youth_BE:.2}\")"
   ]
  },
  {
   "cell_type": "code",
   "execution_count": 60,
   "metadata": {
    "colab": {
     "base_uri": "https://localhost:8080/",
     "height": 143
    },
    "id": "dOlLl5nZzuek",
    "outputId": "caeebd8e-fdae-47da-84fb-d4e502174371"
   },
   "outputs": [
    {
     "data": {
      "text/html": [
       "<div>\n",
       "<style scoped>\n",
       "    .dataframe tbody tr th:only-of-type {\n",
       "        vertical-align: middle;\n",
       "    }\n",
       "\n",
       "    .dataframe tbody tr th {\n",
       "        vertical-align: top;\n",
       "    }\n",
       "\n",
       "    .dataframe thead th {\n",
       "        text-align: right;\n",
       "    }\n",
       "</style>\n",
       "<table border=\"1\" class=\"dataframe\">\n",
       "  <thead>\n",
       "    <tr style=\"text-align: right;\">\n",
       "      <th>Won</th>\n",
       "      <th>no</th>\n",
       "      <th>yes</th>\n",
       "    </tr>\n",
       "    <tr>\n",
       "      <th>Sex</th>\n",
       "      <th></th>\n",
       "      <th></th>\n",
       "    </tr>\n",
       "  </thead>\n",
       "  <tbody>\n",
       "    <tr>\n",
       "      <th>female</th>\n",
       "      <td>1</td>\n",
       "      <td>1</td>\n",
       "    </tr>\n",
       "    <tr>\n",
       "      <th>male</th>\n",
       "      <td>2</td>\n",
       "      <td>1</td>\n",
       "    </tr>\n",
       "  </tbody>\n",
       "</table>\n",
       "</div>"
      ],
      "text/plain": [
       "Won     no  yes\n",
       "Sex            \n",
       "female   1    1\n",
       "male     2    1"
      ]
     },
     "execution_count": 60,
     "metadata": {},
     "output_type": "execute_result"
    }
   ],
   "source": [
    "# Create a data frame for Sex - Won\n",
    "df_sex_won = {\n",
    "    'Sex' : ['male','female','male','male','female'],\n",
    "    'Won' : ['no','no','no','yes','yes']\n",
    "    }\n",
    "df_sex_won = pd.DataFrame(df_sex_won)\n",
    "# Crosstab Sex - Won\n",
    "df_sex_won = pd.crosstab(df_sex_won['Sex'],df_sex_won['Won'])\n",
    "df_sex_won"
   ]
  },
  {
   "cell_type": "code",
   "execution_count": 61,
   "metadata": {
    "colab": {
     "base_uri": "https://localhost:8080/"
    },
    "id": "MT2eAjh80k9A",
    "outputId": "4ff45a62-848c-4c90-e189-d85f5ff1646e"
   },
   "outputs": [
    {
     "name": "stdout",
     "output_type": "stream",
     "text": [
      "E(youth,sex) :  0.9509775004326937\n"
     ]
    }
   ],
   "source": [
    "# Calculate E(youth_sex)\n",
    "E_youth_sex = (2/5)*((-1/2)*math.log2(1/2)-(1/2)*math.log2(1/2)) +  (3/5)*((-2/3)*math.log2(2/3)-(1/3)*math.log2(1/3))\n",
    "print('E(youth,sex) : ',E_youth_sex)"
   ]
  },
  {
   "cell_type": "code",
   "execution_count": 62,
   "metadata": {
    "colab": {
     "base_uri": "https://localhost:8080/"
    },
    "id": "qm4zAI_A1iQT",
    "outputId": "5fc712bf-08c3-4edb-c397-26710bc7ebb9"
   },
   "outputs": [
    {
     "name": "stdout",
     "output_type": "stream",
     "text": [
      "IG(youth_sex): 0.02\n"
     ]
    }
   ],
   "source": [
    "# IG_youth_Sex\n",
    "IG_youth_Sex = E_youth - E_youth_sex\n",
    "print(f\"IG(youth_sex): {IG_youth_Sex:.2}\")"
   ]
  },
  {
   "cell_type": "code",
   "execution_count": 63,
   "metadata": {
    "colab": {
     "base_uri": "https://localhost:8080/"
    },
    "id": "yYF5vAhm110_",
    "outputId": "8c7ad815-f8ad-4872-a574-cc1cd5787b34"
   },
   "outputs": [
    {
     "name": "stdout",
     "output_type": "stream",
     "text": [
      "E(Hairsize_Won) :  0.4\n",
      "IG_HS_Won : 0.57\n",
      "E(youth,Browneye) :  0.0\n",
      "IG(youth_BE):  0.9709505944546686\n",
      "E(youth,sex) : 0.95\n",
      "IG(youth_sex): 0.02\n"
     ]
    }
   ],
   "source": [
    "# SUMMARY OF ENTROPIES AND INFORMATION GAIN BASED ON YOUTH\n",
    "print('E(Hairsize_Won) : ',E_HS_Won)\n",
    "print(f'IG_HS_Won : {IG_E_HS_Won:.2}')\n",
    "print('E(youth,Browneye) : ',E_youth_BE)\n",
    "print('IG(youth_BE): ',IG_youth_BE)\n",
    "print(f'E(youth,sex) : {E_youth_sex:.2}')\n",
    "print(f\"IG(youth_sex): {IG_youth_Sex:.2}\")"
   ]
  },
  {
   "cell_type": "markdown",
   "metadata": {
    "id": "tZhssv0zb_5s"
   },
   "source": [
    "# Brown_Eye is the largest value."
   ]
  },
  {
   "cell_type": "code",
   "execution_count": 64,
   "metadata": {
    "colab": {
     "base_uri": "https://localhost:8080/",
     "height": 206
    },
    "id": "noUmHtuT3tU7",
    "outputId": "f972f993-b24e-4263-97ca-807ba9ad8613"
   },
   "outputs": [
    {
     "data": {
      "text/html": [
       "<div>\n",
       "<style scoped>\n",
       "    .dataframe tbody tr th:only-of-type {\n",
       "        vertical-align: middle;\n",
       "    }\n",
       "\n",
       "    .dataframe tbody tr th {\n",
       "        vertical-align: top;\n",
       "    }\n",
       "\n",
       "    .dataframe thead th {\n",
       "        text-align: right;\n",
       "    }\n",
       "</style>\n",
       "<table border=\"1\" class=\"dataframe\">\n",
       "  <thead>\n",
       "    <tr style=\"text-align: right;\">\n",
       "      <th></th>\n",
       "      <th>Age</th>\n",
       "      <th>Hair_Size</th>\n",
       "      <th>Brown_Eye</th>\n",
       "      <th>Sex</th>\n",
       "      <th>Won</th>\n",
       "    </tr>\n",
       "  </thead>\n",
       "  <tbody>\n",
       "    <tr>\n",
       "      <th>3</th>\n",
       "      <td>senior</td>\n",
       "      <td>medium</td>\n",
       "      <td>no</td>\n",
       "      <td>male</td>\n",
       "      <td>yes</td>\n",
       "    </tr>\n",
       "    <tr>\n",
       "      <th>4</th>\n",
       "      <td>senior</td>\n",
       "      <td>short</td>\n",
       "      <td>yes</td>\n",
       "      <td>male</td>\n",
       "      <td>yes</td>\n",
       "    </tr>\n",
       "    <tr>\n",
       "      <th>5</th>\n",
       "      <td>senior</td>\n",
       "      <td>short</td>\n",
       "      <td>yes</td>\n",
       "      <td>female</td>\n",
       "      <td>no</td>\n",
       "    </tr>\n",
       "    <tr>\n",
       "      <th>9</th>\n",
       "      <td>senior</td>\n",
       "      <td>medium</td>\n",
       "      <td>yes</td>\n",
       "      <td>male</td>\n",
       "      <td>yes</td>\n",
       "    </tr>\n",
       "    <tr>\n",
       "      <th>13</th>\n",
       "      <td>senior</td>\n",
       "      <td>medium</td>\n",
       "      <td>no</td>\n",
       "      <td>female</td>\n",
       "      <td>no</td>\n",
       "    </tr>\n",
       "  </tbody>\n",
       "</table>\n",
       "</div>"
      ],
      "text/plain": [
       "       Age Hair_Size Brown_Eye     Sex  Won\n",
       "3   senior   medium         no    male  yes\n",
       "4   senior     short       yes    male  yes\n",
       "5   senior     short       yes  female   no\n",
       "9   senior   medium        yes    male  yes\n",
       "13  senior   medium         no  female   no"
      ]
     },
     "execution_count": 64,
     "metadata": {},
     "output_type": "execute_result"
    }
   ],
   "source": [
    "df_Age[4:9]"
   ]
  },
  {
   "cell_type": "code",
   "execution_count": 65,
   "metadata": {
    "colab": {
     "base_uri": "https://localhost:8080/"
    },
    "id": "CXJyClUhmQ1Y",
    "outputId": "b633a8d6-a860-429b-e512-1e9ab1153b77"
   },
   "outputs": [
    {
     "name": "stdout",
     "output_type": "stream",
     "text": [
      "E(senior) :  0.9709505944546686\n"
     ]
    }
   ],
   "source": [
    "# Calculate E(senior)\n",
    "E_senior = (-(3/5)*math.log2(3/5)-(2/5)*math.log2(2/5))\n",
    "print('E(senior) : ',E_senior)"
   ]
  },
  {
   "cell_type": "code",
   "execution_count": 66,
   "metadata": {
    "colab": {
     "base_uri": "https://localhost:8080/",
     "height": 143
    },
    "id": "eATDD4k7bEtm",
    "outputId": "decc18b1-cd2e-4359-a5b0-3fa8bd4fa793"
   },
   "outputs": [
    {
     "data": {
      "text/html": [
       "<div>\n",
       "<style scoped>\n",
       "    .dataframe tbody tr th:only-of-type {\n",
       "        vertical-align: middle;\n",
       "    }\n",
       "\n",
       "    .dataframe tbody tr th {\n",
       "        vertical-align: top;\n",
       "    }\n",
       "\n",
       "    .dataframe thead th {\n",
       "        text-align: right;\n",
       "    }\n",
       "</style>\n",
       "<table border=\"1\" class=\"dataframe\">\n",
       "  <thead>\n",
       "    <tr style=\"text-align: right;\">\n",
       "      <th>Won</th>\n",
       "      <th>no</th>\n",
       "      <th>yes</th>\n",
       "    </tr>\n",
       "    <tr>\n",
       "      <th>Hair_Size</th>\n",
       "      <th></th>\n",
       "      <th></th>\n",
       "    </tr>\n",
       "  </thead>\n",
       "  <tbody>\n",
       "    <tr>\n",
       "      <th>medium</th>\n",
       "      <td>1</td>\n",
       "      <td>2</td>\n",
       "    </tr>\n",
       "    <tr>\n",
       "      <th>short</th>\n",
       "      <td>1</td>\n",
       "      <td>1</td>\n",
       "    </tr>\n",
       "  </tbody>\n",
       "</table>\n",
       "</div>"
      ],
      "text/plain": [
       "Won        no  yes\n",
       "Hair_Size         \n",
       "medium      1    2\n",
       "short       1    1"
      ]
     },
     "execution_count": 66,
     "metadata": {},
     "output_type": "execute_result"
    }
   ],
   "source": [
    "# Create a data frame for Hair_Size - Won Under Senior\n",
    "df_hairsize_won = {\n",
    "    'Hair_Size' : ['medium','short','short','medium','medium'],\n",
    "    'Won' : ['yes','yes','no','yes','no']\n",
    "    }\n",
    "df_hairsize_won = pd.DataFrame(df_hairsize_won)\n",
    "# Crosstab Hairszie - Won\n",
    "df_hairsize_won = pd.crosstab(df_hairsize_won['Hair_Size'],df_hairsize_won['Won'])\n",
    "df_hairsize_won"
   ]
  },
  {
   "cell_type": "code",
   "execution_count": 67,
   "metadata": {
    "colab": {
     "base_uri": "https://localhost:8080/"
    },
    "id": "rMzASpdEeDTN",
    "outputId": "5a213e69-fb7e-40df-a052-5e0afbbf7a21"
   },
   "outputs": [
    {
     "name": "stdout",
     "output_type": "stream",
     "text": [
      "E(senior,hairsize) :  0.9509775004326937\n"
     ]
    }
   ],
   "source": [
    "# Calculate E(senior_hairsize)\n",
    "E_senior_hairsize = (3/5)*((-1/3)*math.log2(1/3)-(2/3)*math.log2(2/3)) +  (2/5)*((-1/2)*math.log2(1/2)-(1/2)*math.log2(1/2))\n",
    "print('E(senior,hairsize) : ',E_senior_hairsize)"
   ]
  },
  {
   "cell_type": "code",
   "execution_count": 68,
   "metadata": {
    "colab": {
     "base_uri": "https://localhost:8080/",
     "height": 143
    },
    "id": "DI4PZDiWjaDB",
    "outputId": "3ee99472-4a0a-4f5d-a127-33bfef5833eb"
   },
   "outputs": [
    {
     "data": {
      "text/html": [
       "<div>\n",
       "<style scoped>\n",
       "    .dataframe tbody tr th:only-of-type {\n",
       "        vertical-align: middle;\n",
       "    }\n",
       "\n",
       "    .dataframe tbody tr th {\n",
       "        vertical-align: top;\n",
       "    }\n",
       "\n",
       "    .dataframe thead th {\n",
       "        text-align: right;\n",
       "    }\n",
       "</style>\n",
       "<table border=\"1\" class=\"dataframe\">\n",
       "  <thead>\n",
       "    <tr style=\"text-align: right;\">\n",
       "      <th>Won</th>\n",
       "      <th>no</th>\n",
       "      <th>yes</th>\n",
       "    </tr>\n",
       "    <tr>\n",
       "      <th>Brown_Eye</th>\n",
       "      <th></th>\n",
       "      <th></th>\n",
       "    </tr>\n",
       "  </thead>\n",
       "  <tbody>\n",
       "    <tr>\n",
       "      <th>no</th>\n",
       "      <td>1</td>\n",
       "      <td>1</td>\n",
       "    </tr>\n",
       "    <tr>\n",
       "      <th>yes</th>\n",
       "      <td>1</td>\n",
       "      <td>2</td>\n",
       "    </tr>\n",
       "  </tbody>\n",
       "</table>\n",
       "</div>"
      ],
      "text/plain": [
       "Won        no  yes\n",
       "Brown_Eye         \n",
       "no          1    1\n",
       "yes         1    2"
      ]
     },
     "execution_count": 68,
     "metadata": {},
     "output_type": "execute_result"
    }
   ],
   "source": [
    "# Create a data frame for Brown_Eye - Won Under Senior\n",
    "df_browneye_won = {\n",
    "    'Brown_Eye' : ['no','yes','yes','yes','no'],\n",
    "    'Won' : ['yes','yes','no','yes','no']\n",
    "    }\n",
    "df_browneye_won = pd.DataFrame(df_browneye_won)\n",
    "# Crosstab Hairszie - Won\n",
    "df_browneye_won = pd.crosstab(df_browneye_won['Brown_Eye'],df_browneye_won['Won'])\n",
    "df_browneye_won"
   ]
  },
  {
   "cell_type": "code",
   "execution_count": 69,
   "metadata": {
    "colab": {
     "base_uri": "https://localhost:8080/"
    },
    "id": "4twpb1jTg8pH",
    "outputId": "25f38bdd-ddce-4118-94e8-f7a466426d15"
   },
   "outputs": [
    {
     "name": "stdout",
     "output_type": "stream",
     "text": [
      "E(senior,browneye) :  0.9509775004326937\n"
     ]
    }
   ],
   "source": [
    "# Calculate E(senior_browneye)\n",
    "E_senior_browneye = (2/5)*((-1/2)*math.log2(1/2)-(1/2)*math.log2(1/2)) +  (3/5)*((-1/3)*math.log2(1/3)-(2/3)*math.log2(2/3))\n",
    "print('E(senior,browneye) : ',E_senior_browneye)"
   ]
  },
  {
   "cell_type": "code",
   "execution_count": 70,
   "metadata": {
    "colab": {
     "base_uri": "https://localhost:8080/",
     "height": 143
    },
    "id": "awfHr0Hakvnu",
    "outputId": "eec393f6-3de5-43bf-eeca-3adc6d161854"
   },
   "outputs": [
    {
     "data": {
      "text/html": [
       "<div>\n",
       "<style scoped>\n",
       "    .dataframe tbody tr th:only-of-type {\n",
       "        vertical-align: middle;\n",
       "    }\n",
       "\n",
       "    .dataframe tbody tr th {\n",
       "        vertical-align: top;\n",
       "    }\n",
       "\n",
       "    .dataframe thead th {\n",
       "        text-align: right;\n",
       "    }\n",
       "</style>\n",
       "<table border=\"1\" class=\"dataframe\">\n",
       "  <thead>\n",
       "    <tr style=\"text-align: right;\">\n",
       "      <th>Won</th>\n",
       "      <th>no</th>\n",
       "      <th>yes</th>\n",
       "    </tr>\n",
       "    <tr>\n",
       "      <th>Sex</th>\n",
       "      <th></th>\n",
       "      <th></th>\n",
       "    </tr>\n",
       "  </thead>\n",
       "  <tbody>\n",
       "    <tr>\n",
       "      <th>Female</th>\n",
       "      <td>2</td>\n",
       "      <td>0</td>\n",
       "    </tr>\n",
       "    <tr>\n",
       "      <th>Male</th>\n",
       "      <td>0</td>\n",
       "      <td>3</td>\n",
       "    </tr>\n",
       "  </tbody>\n",
       "</table>\n",
       "</div>"
      ],
      "text/plain": [
       "Won     no  yes\n",
       "Sex            \n",
       "Female   2    0\n",
       "Male     0    3"
      ]
     },
     "execution_count": 70,
     "metadata": {},
     "output_type": "execute_result"
    }
   ],
   "source": [
    "# Create a data frame for Brown_Eye - Won Under Senior\n",
    "df_sex_won = {\n",
    "    'Sex' : ['Male','Male','Female','Male','Female'],\n",
    "    'Won' : ['yes','yes','no','yes','no']\n",
    "    }\n",
    "df_sex_won = pd.DataFrame(df_sex_won)\n",
    "# Crosstab Seni Won\n",
    "df_sex_won = pd.crosstab(df_sex_won['Sex'],df_sex_won['Won'])\n",
    "df_sex_won"
   ]
  },
  {
   "cell_type": "code",
   "execution_count": 71,
   "metadata": {
    "colab": {
     "base_uri": "https://localhost:8080/"
    },
    "id": "W_1Iw2ciluru",
    "outputId": "f4f4abda-6808-4e12-cc0a-8cab8445520d"
   },
   "outputs": [
    {
     "name": "stdout",
     "output_type": "stream",
     "text": [
      "E(senior,sex) 0.0\n"
     ]
    }
   ],
   "source": [
    "# E(senior,sex)\n",
    "E_sex_won = (2/5)*0 + 0*(3/5)\n",
    "print('E(senior,sex)',E_sex_won)"
   ]
  },
  {
   "cell_type": "code",
   "execution_count": 72,
   "metadata": {
    "colab": {
     "base_uri": "https://localhost:8080/"
    },
    "id": "rf-2qS-9nrDy",
    "outputId": "03fa03d4-7abf-436c-e977-496f9ca8a328"
   },
   "outputs": [
    {
     "name": "stdout",
     "output_type": "stream",
     "text": [
      "E(senior) :  0.9709505944546686 \n",
      "\n",
      "E(senior,hairsize) :  0.9509775004326937\n",
      "IG(senior,hairsize) :  0.01997309402197489 \n",
      "\n",
      "E(senior,browneye) :  0.9509775004326937\n",
      "IG(senior,browneye) :  0.01997309402197489 \n",
      "\n",
      "E(senior,sex) 0.0\n",
      "IG(senior,sex) :  0.9709505944546686 \n",
      "\n"
     ]
    }
   ],
   "source": [
    "# SUMMARY OF ENTROPIES AND INFORMATION GAINS\n",
    "print('E(senior) : ',E_senior,'\\n')\n",
    "\n",
    "print('E(senior,hairsize) : ',E_senior_hairsize)\n",
    "IG_senior_hairsize = E_senior - E_senior_hairsize\n",
    "print('IG(senior,hairsize) : ',IG_senior_hairsize,'\\n' )\n",
    "IG_senior_hairsize = E_senior - E_senior_hairsize\n",
    "\n",
    "print('E(senior,browneye) : ',E_senior_browneye)\n",
    "IG_senior_browneye = E_senior - E_senior_browneye\n",
    "print('IG(senior,browneye) : ',IG_senior_hairsize,'\\n' )\n",
    "\n",
    "print('E(senior,sex)',E_sex_won)\n",
    "IG_senior_sex = E_senior - E_sex_won\n",
    "print('IG(senior,sex) : ',IG_senior_sex,'\\n' )"
   ]
  },
  {
   "cell_type": "markdown",
   "metadata": {},
   "source": [
    "# B-) The best Information Gain is IG(youth,brown eye) or IG(senior,sex) they have same Information Gain"
   ]
  },
  {
   "cell_type": "markdown",
   "metadata": {
    "id": "K-4aiiuGpis1"
   },
   "source": [
    "# The largest information is Sex for Senior"
   ]
  },
  {
   "cell_type": "markdown",
   "metadata": {
    "id": "VW0AcLFIphT-"
   },
   "source": [
    "# DECISION TREE"
   ]
  },
  {
   "attachments": {
    "image.png": {
     "image/png": "[encoded data removed]"
    }
   },
   "cell_type": "markdown",
   "metadata": {},
   "source": [
    "![image.png](attachment:image.png)"
   ]
  },
  {
   "cell_type": "code",
   "execution_count": null,
   "metadata": {},
   "outputs": [],
   "source": []
  }
 ],
 "metadata": {
  "colab": {
   "provenance": []
  },
  "kernelspec": {
   "display_name": "Python 3 (ipykernel)",
   "language": "python",
   "name": "python3"
  },
  "language_info": {
   "codemirror_mode": {
    "name": "ipython",
    "version": 3
   },
   "file_extension": ".py",
   "mimetype": "text/x-python",
   "name": "python",
   "nbconvert_exporter": "python",
   "pygments_lexer": "ipython3",
   "version": "3.7.1"
  }
 },
 "nbformat": 4,
 "nbformat_minor": 1
}
